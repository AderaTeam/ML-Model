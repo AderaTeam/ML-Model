{
 "cells": [
  {
   "cell_type": "code",
   "execution_count": 35,
   "metadata": {},
   "outputs": [],
   "source": [
    "from catboost import CatBoostClassifier\n",
    "from scipy import signal\n",
    "import tensorflow as tf\n",
    "import pickle\n",
    "import numpy as np\n",
    "import pandas as pd\n",
    "from sklearn.metrics import r2_score, mean_absolute_percentage_error, mean_absolute_error\n"
   ]
  },
  {
   "cell_type": "code",
   "execution_count": 21,
   "metadata": {},
   "outputs": [],
   "source": [
    "gdp_list_p = pd.read_csv('OuterFiles/gdp_processed.csv')\n"
   ]
  },
  {
   "cell_type": "code",
   "execution_count": 22,
   "metadata": {},
   "outputs": [
    {
     "data": {
      "text/plain": [
       "<catboost.core.CatBoostClassifier at 0x2b642201940>"
      ]
     },
     "execution_count": 22,
     "metadata": {},
     "output_type": "execute_result"
    }
   ],
   "source": [
    "model = tf.keras.saving.load_model(\"Models/time_series.h5\")\n",
    "cbc_wo_pensia_load = CatBoostClassifier()\n",
    "cbc_wo_pensia_load.load_model('Models/classificator_catboost_wo_pensia.pkl')\n"
   ]
  },
  {
   "cell_type": "code",
   "execution_count": 2,
   "metadata": {},
   "outputs": [],
   "source": [
    "npo_clnts = pd.read_csv('DATA/Test/npo_clnts.csv')\n",
    "npo_cntrbtrs = pd.read_csv('DATA/Test/npo_cntrbtrs.csv')\n",
    "npo_trnsctns = pd.read_csv('DATA/Test/npo_trnsctns.csv')\n"
   ]
  },
  {
   "cell_type": "code",
   "execution_count": 3,
   "metadata": {},
   "outputs": [],
   "source": [
    "def trans_a(a):\n",
    "    try:\n",
    "        if type(a) is str:\n",
    "            return float(a.replace('\\xa0', ''))\n",
    "        else:\n",
    "            return float(a)\n",
    "    except:\n",
    "        return -1\n"
   ]
  },
  {
   "cell_type": "code",
   "execution_count": 4,
   "metadata": {},
   "outputs": [],
   "source": [
    "not_importe_col_for_npo_clnts = ['age']\n",
    "npo_clnts_normed = npo_clnts.drop(not_importe_col_for_npo_clnts, axis=1)\n",
    "npo_clnts_normed['pstl_code'] = npo_clnts_normed['pstl_code'].apply(trans_a)\n"
   ]
  },
  {
   "cell_type": "code",
   "execution_count": 5,
   "metadata": {},
   "outputs": [],
   "source": [
    "npo_cntrbtrs_normed = npo_cntrbtrs\n",
    "date_columns_for_npo_cntrbtrs = [\n",
    "    'npo_accnt_status_date', 'npo_frst_pmnt_date', 'npo_lst_pmnt_date']\n",
    "for i in date_columns_for_npo_cntrbtrs:\n",
    "    npo_cntrbtrs_normed[f'{i}_year'] = pd.to_datetime(npo_cntrbtrs[i]).dt.year\n",
    "    npo_cntrbtrs_normed[f'{i}_month'] = pd.to_datetime(\n",
    "        npo_cntrbtrs[i]).dt.month\n",
    "    npo_cntrbtrs_normed[f'{i}_day'] = pd.to_datetime(npo_cntrbtrs[i]).dt.day\n",
    "    npo_cntrbtrs_normed = npo_cntrbtrs_normed.drop(i, axis=1)\n"
   ]
  },
  {
   "cell_type": "code",
   "execution_count": 6,
   "metadata": {},
   "outputs": [],
   "source": [
    "npo_trnsctns_normed = npo_trnsctns\n",
    "date_columns_for_npo_trnsctns = ['npo_operation_date']\n",
    "for i in date_columns_for_npo_trnsctns:\n",
    "    npo_trnsctns_normed[f'{i}_year'] = pd.to_datetime(npo_trnsctns[i]).dt.year\n",
    "    npo_trnsctns_normed[f'{i}_month'] = pd.to_datetime(\n",
    "        npo_trnsctns[i]).dt.month\n",
    "    npo_trnsctns_normed[f'{i}_day'] = pd.to_datetime(npo_trnsctns[i]).dt.day\n",
    "    npo_trnsctns_normed = npo_trnsctns_normed.drop(i, axis=1)\n"
   ]
  },
  {
   "cell_type": "code",
   "execution_count": 7,
   "metadata": {},
   "outputs": [],
   "source": [
    "npo_cntrbtrs_fillna = npo_cntrbtrs_normed.fillna(-1)\n",
    "npo_trnsctns_fillna = npo_trnsctns_normed.fillna(-1)\n",
    "npo_clnts_fillna = npo_clnts_normed.fillna(-1)\n"
   ]
  },
  {
   "cell_type": "code",
   "execution_count": 8,
   "metadata": {},
   "outputs": [],
   "source": [
    "all_in_one = pd.merge(npo_trnsctns_fillna, npo_cntrbtrs_fillna, on='npo_accnt_id')\n",
    "all_in_one = pd.merge(all_in_one, npo_clnts_fillna, on='clnt_id')\n"
   ]
  },
  {
   "cell_type": "code",
   "execution_count": 9,
   "metadata": {},
   "outputs": [
    {
     "data": {
      "text/plain": [
       "Index(['npo_accnt_id', 'npo_sum', 'slctn_nmbr_x', 'npo_operation_group',\n",
       "       'npo_operation_date_year', 'npo_operation_date_month',\n",
       "       'npo_operation_date_day', 'clnt_id', 'accnt_pnsn_schm', 'slctn_nmbr_y',\n",
       "       'npo_accnt_status', 'npo_blnc', 'npo_pmnts_sum', 'npo_pmnts_nmbr',\n",
       "       'npo_ttl_incm', 'npo_accnt_status_date_year',\n",
       "       'npo_accnt_status_date_month', 'npo_accnt_status_date_day',\n",
       "       'npo_frst_pmnt_date_year', 'npo_frst_pmnt_date_month',\n",
       "       'npo_frst_pmnt_date_day', 'npo_lst_pmnt_date_year',\n",
       "       'npo_lst_pmnt_date_month', 'npo_lst_pmnt_date_day', 'gndr',\n",
       "       'slctn_nmbr', 'brth_yr', 'pstl_code', 'city'],\n",
       "      dtype='object')"
      ]
     },
     "execution_count": 9,
     "metadata": {},
     "output_type": "execute_result"
    }
   ],
   "source": [
    "all_in_one.columns\n"
   ]
  },
  {
   "cell_type": "code",
   "execution_count": 10,
   "metadata": {},
   "outputs": [],
   "source": [
    "all_in_one.to_csv('DATA/Test/all_in_one.csv')\n"
   ]
  },
  {
   "cell_type": "code",
   "execution_count": 12,
   "metadata": {},
   "outputs": [],
   "source": [
    "all_in_one['slctn_nmbr'] = all_in_one['slctn_nmbr_x']\n",
    "all_in_one = all_in_one.drop(['slctn_nmbr_x', 'slctn_nmbr_y', ], axis=1)\n"
   ]
  },
  {
   "cell_type": "code",
   "execution_count": 13,
   "metadata": {},
   "outputs": [
    {
     "data": {
      "text/plain": [
       "(5301008, 27)"
      ]
     },
     "execution_count": 13,
     "metadata": {},
     "output_type": "execute_result"
    }
   ],
   "source": [
    "all_in_one.shape\n"
   ]
  },
  {
   "cell_type": "code",
   "execution_count": 16,
   "metadata": {},
   "outputs": [],
   "source": [
    "clients_sums = dict()\n",
    "clients = all_in_one['clnt_id'].unique()\n",
    "for i in clients[0:2000]:\n",
    "    clients_sums[i] = all_in_one.loc[all_in_one['clnt_id'] == i]\n"
   ]
  },
  {
   "cell_type": "code",
   "execution_count": 27,
   "metadata": {},
   "outputs": [
    {
     "data": {
      "text/plain": [
       "2000"
      ]
     },
     "execution_count": 27,
     "metadata": {},
     "output_type": "execute_result"
    }
   ],
   "source": [
    "len(list(clients_sums.keys()))"
   ]
  },
  {
   "cell_type": "code",
   "execution_count": 20,
   "metadata": {},
   "outputs": [],
   "source": [
    "with open('DATA/Test/clients_sums.pkl', 'wb') as fp:\n",
    "    pickle.dump(clients_sums, fp)\n"
   ]
  },
  {
   "cell_type": "code",
   "execution_count": 26,
   "metadata": {},
   "outputs": [],
   "source": [
    "with open('DATA/Test/clients_sums.pkl', 'rb') as fp:\n",
    "    clients_sums = pickle.load(fp)\n"
   ]
  },
  {
   "cell_type": "code",
   "execution_count": 23,
   "metadata": {},
   "outputs": [],
   "source": [
    "def create_vector_user(user_table):\n",
    "  important_series_columns_for_vector = [\n",
    "      'npo_sum',\n",
    "      'npo_operation_group',\n",
    "      'npo_operation_date_year',\n",
    "      'npo_operation_date_month',\n",
    "      'npo_operation_date_day'\n",
    "  ]\n",
    "  important_constant_columns_for_voctor = ['accnt_pnsn_schm',\n",
    "                                           'npo_accnt_status', 'npo_blnc', 'npo_pmnts_sum', 'npo_pmnts_nmbr',\n",
    "                                           'npo_ttl_incm', 'npo_accnt_status_date_year',\n",
    "                                           'npo_accnt_status_date_month', 'npo_accnt_status_date_day',\n",
    "                                           'npo_frst_pmnt_date_year', 'npo_frst_pmnt_date_month',\n",
    "                                           'npo_frst_pmnt_date_day', 'npo_lst_pmnt_date_year',\n",
    "                                           'npo_lst_pmnt_date_month', 'npo_lst_pmnt_date_day', 'gndr', 'brth_yr',\n",
    "                                           'pstl_code', 'city'\n",
    "                                           ]\n",
    "  constant_vector_params = user_table.loc[:, important_constant_columns_for_voctor].describe(\n",
    "  ).loc['mean'].to_numpy()\n",
    "  series_vector_describe = user_table.loc[:,\n",
    "                                          important_series_columns_for_vector].describe().T\n",
    "  series_vector_params = series_vector_describe.loc[:, [\n",
    "      'mean', 'std', 'min', 'max']].to_numpy().reshape(20, )\n",
    "  return np.insert(np.append(series_vector_params, constant_vector_params), 0, np.mean(series_vector_describe['count']))\n"
   ]
  },
  {
   "cell_type": "code",
   "execution_count": 24,
   "metadata": {},
   "outputs": [],
   "source": [
    "def mod_user(a, gdps, space):\n",
    "    data = a.sort_values(by=['npo_operation_date_year',\n",
    "                         'npo_operation_date_month', 'npo_operation_date_day'])\n",
    "    u1d = create_vector_user(data)\n",
    "    class_of_user = cbc_wo_pensia_load.predict(u1d.reshape(1, u1d.shape[0]))\n",
    "    gdp = list()\n",
    "    for i in data.loc[:, ['npo_operation_date_month', 'npo_operation_date_year']].to_numpy():\n",
    "        res = gdps.loc[(gdps['month'] + space['month'] == i[0])\n",
    "                       & (gdps['year'] + space['year'] == i[1])]\n",
    "        if res.shape[0]:\n",
    "            gdp.append(res['gdv'].median())\n",
    "        else:\n",
    "            gdp.append(-1)\n",
    "    data_npo_sum = data['npo_sum'].to_numpy().reshape(1, data.shape[0])\n",
    "    gdp = np.array(gdp).reshape(1, data.shape[0])\n",
    "    c = np.append(data_npo_sum, gdp, axis=0)\n",
    "    f = signal.resample(c.T, 100).T\n",
    "    f = f.reshape(1, f.shape[0] * f.shape[1])\n",
    "    f = np.insert(f, 0, class_of_user)\n",
    "    return f\n"
   ]
  },
  {
   "cell_type": "code",
   "execution_count": 28,
   "metadata": {},
   "outputs": [],
   "source": [
    "data = list(clients_sums.values())\n"
   ]
  },
  {
   "cell_type": "code",
   "execution_count": 30,
   "metadata": {},
   "outputs": [],
   "source": [
    "dataset_preprocessed_TS = list(map(lambda a: mod_user(a, gdp_list_p, space={'month': 4, 'year': 1}), list(clients_sums.values()),))"
   ]
  },
  {
   "cell_type": "code",
   "execution_count": 31,
   "metadata": {},
   "outputs": [],
   "source": [
    "dataset_preprocessed_x, dataset_preprocessed_y = [], []\n",
    "for i in dataset_preprocessed_TS:\n",
    "    dataset_preprocessed_y.append(i[76:101])\n",
    "    x = np.delete(i, np.arange(75, 100) + 1)\n",
    "    x = np.delete(x, np.arange(75, 100) + 1 + 100 - 25)\n",
    "    dataset_preprocessed_x.append(x)\n"
   ]
  },
  {
   "cell_type": "code",
   "execution_count": 32,
   "metadata": {},
   "outputs": [],
   "source": [
    "dataset_preprocessed_x = np.array(dataset_preprocessed_x)\n",
    "dataset_preprocessed_y = np.array(dataset_preprocessed_y)\n"
   ]
  },
  {
   "cell_type": "code",
   "execution_count": 33,
   "metadata": {},
   "outputs": [
    {
     "name": "stdout",
     "output_type": "stream",
     "text": [
      "63/63 [==============================] - 0s 2ms/step\n"
     ]
    }
   ],
   "source": [
    "pred = model.predict(dataset_preprocessed_x)\n"
   ]
  },
  {
   "cell_type": "code",
   "execution_count": 51,
   "metadata": {},
   "outputs": [
    {
     "data": {
      "text/plain": [
       "(0.05419180982942642, 0.2013833882603916, 0.4022521683892837)"
      ]
     },
     "execution_count": 51,
     "metadata": {},
     "output_type": "execute_result"
    }
   ],
   "source": [
    "r2_score(dataset_preprocessed_y[0:100], pred[0:100]), r2_score(np.mean(dataset_preprocessed_y, axis=0), np.mean(pred, axis=0)), r2_score(np.median(dataset_preprocessed_y, axis=0), np.median(pred, axis=0))\n"
   ]
  },
  {
   "cell_type": "code",
   "execution_count": 45,
   "metadata": {},
   "outputs": [
    {
     "data": {
      "text/plain": [
       "2062.2831935850986"
      ]
     },
     "execution_count": 45,
     "metadata": {},
     "output_type": "execute_result"
    }
   ],
   "source": [
    "mean_absolute_error(dataset_preprocessed_y, pred)\n"
   ]
  },
  {
   "cell_type": "code",
   "execution_count": null,
   "metadata": {},
   "outputs": [],
   "source": []
  }
 ],
 "metadata": {
  "kernelspec": {
   "display_name": "HT",
   "language": "python",
   "name": "python3"
  },
  "language_info": {
   "codemirror_mode": {
    "name": "ipython",
    "version": 3
   },
   "file_extension": ".py",
   "mimetype": "text/x-python",
   "name": "python",
   "nbconvert_exporter": "python",
   "pygments_lexer": "ipython3",
   "version": "3.9.2"
  },
  "orig_nbformat": 4
 },
 "nbformat": 4,
 "nbformat_minor": 2
}
